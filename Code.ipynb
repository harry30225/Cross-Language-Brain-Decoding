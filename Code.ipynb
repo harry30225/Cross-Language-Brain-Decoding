{
 "cells": [
  {
   "cell_type": "code",
   "execution_count": 1,
   "id": "lucky-wealth",
   "metadata": {},
   "outputs": [],
   "source": [
    "import numpy as np \n",
    "import pandas as pd\n",
    "from sklearn.linear_model import LinearRegression\n",
    "from sklearn.linear_model import Ridge\n",
    "from sklearn.linear_model import Lasso\n",
    "from sklearn.metrics import r2_score\n",
    "import math\n",
    "from sklearn.metrics import mean_squared_error\n",
    "from numpy.linalg import norm\n",
    "from scipy.stats import pearsonr\n",
    "import matplotlib.pyplot as plt\n",
    "from sklearn.ensemble import RandomForestRegressor\n",
    "from sklearn.ensemble import BaggingRegressor\n",
    "from sklearn.svm import SVR"
   ]
  },
  {
   "cell_type": "code",
   "execution_count": 2,
   "id": "medical-knowing",
   "metadata": {},
   "outputs": [],
   "source": [
    "dn = np.load('subj1.npy', allow_pickle='TRUE')\n",
    "data = dn.item()"
   ]
  },
  {
   "cell_type": "code",
   "execution_count": 3,
   "id": "breeding-productivity",
   "metadata": {},
   "outputs": [],
   "source": [
    "data_en = data['en'] ## English \n",
    "data_sp = data['sp'] ## Spanish"
   ]
  },
  {
   "cell_type": "code",
   "execution_count": 4,
   "id": "indonesian-romantic",
   "metadata": {},
   "outputs": [
    {
     "name": "stdout",
     "output_type": "stream",
     "text": [
      "1000\n",
      "<class 'numpy.ndarray'>\n"
     ]
    }
   ],
   "source": [
    "print(len(data_en))\n",
    "print(type(data_sp))"
   ]
  },
  {
   "cell_type": "code",
   "execution_count": 5,
   "id": "analyzed-revision",
   "metadata": {},
   "outputs": [],
   "source": [
    "w = pd.read_csv('words.csv')"
   ]
  },
  {
   "cell_type": "code",
   "execution_count": 6,
   "id": "vietnamese-edition",
   "metadata": {},
   "outputs": [
    {
     "data": {
      "text/plain": [
       "Index(['Number', 'Spanish', 'English'], dtype='object')"
      ]
     },
     "execution_count": 6,
     "metadata": {},
     "output_type": "execute_result"
    }
   ],
   "source": [
    "w.keys()"
   ]
  },
  {
   "cell_type": "code",
   "execution_count": 7,
   "id": "polyphonic-athens",
   "metadata": {},
   "outputs": [],
   "source": [
    "words_en = w['English'].values\n",
    "words_sp = w['Spanish'].values"
   ]
  },
  {
   "cell_type": "code",
   "execution_count": 8,
   "id": "integral-hampton",
   "metadata": {},
   "outputs": [
    {
     "data": {
      "text/plain": [
       "1000"
      ]
     },
     "execution_count": 8,
     "metadata": {},
     "output_type": "execute_result"
    }
   ],
   "source": [
    "len(words_sp)"
   ]
  },
  {
   "cell_type": "code",
   "execution_count": 9,
   "id": "coupled-rotation",
   "metadata": {},
   "outputs": [],
   "source": [
    "batch_size = 32\n",
    "data_en_b = []\n",
    "data_sp_b = []\n",
    "words_en_b = []\n",
    "words_sp_b = []\n",
    "n = len(data_en)\n",
    "start = 0\n",
    "while start < n:\n",
    "    if start + batch_size >= n:\n",
    "        data_en_b.append(data_en[start:])\n",
    "        data_sp_b.append(data_sp[start:])\n",
    "        words_en_b.append(words_en[start:])\n",
    "        words_sp_b.append(words_sp[start:])\n",
    "        start = start + batch_size\n",
    "        break\n",
    "    data_en_b.append(data_en[start:start+batch_size])\n",
    "    data_sp_b.append(data_sp[start:start+batch_size])\n",
    "    words_en_b.append(words_en[start:start+batch_size])\n",
    "    words_sp_b.append(words_sp[start:start+batch_size])\n",
    "    start = start + batch_size"
   ]
  },
  {
   "cell_type": "code",
   "execution_count": 10,
   "id": "revolutionary-wrapping",
   "metadata": {},
   "outputs": [
    {
     "name": "stdout",
     "output_type": "stream",
     "text": [
      "Done\n"
     ]
    }
   ],
   "source": [
    "m = LinearRegression()\n",
    "r2_scores_m = []\n",
    "mean_squared_error_m = []\n",
    "\n",
    "for i in range(len(data_en_b)):\n",
    "    y_en = np.arange(len(words_en_b[i]))\n",
    "    y_sp = np.arange(len(words_sp_b[i]))\n",
    "    m.fit(data_en_b[i], y_en)\n",
    "    y_pred = m.predict(data_sp_b[i])\n",
    "    for i in range(len(y_pred)):\n",
    "        y_pred[i] = round(y_pred[i])\n",
    "    r2_scores_m.append(r2_score(y_sp,y_pred))\n",
    "    mean_squared_error_m.append(np.sqrt(mean_squared_error(y_sp,y_pred)))\n",
    "    \n",
    "print(\"Done\")"
   ]
  },
  {
   "cell_type": "code",
   "execution_count": 11,
   "id": "competent-nigeria",
   "metadata": {},
   "outputs": [
    {
     "name": "stderr",
     "output_type": "stream",
     "text": [
      "/home/harry30225/.local/lib/python3.8/site-packages/sklearn/linear_model/_coordinate_descent.py:530: ConvergenceWarning: Objective did not converge. You might want to increase the number of iterations. Duality gap: 13.635376210343502, tolerance: 0.2728\n",
      "  model = cd_fast.enet_coordinate_descent(\n",
      "/home/harry30225/.local/lib/python3.8/site-packages/sklearn/linear_model/_coordinate_descent.py:530: ConvergenceWarning: Objective did not converge. You might want to increase the number of iterations. Duality gap: 11.64008765513009, tolerance: 0.2728\n",
      "  model = cd_fast.enet_coordinate_descent(\n",
      "/home/harry30225/.local/lib/python3.8/site-packages/sklearn/linear_model/_coordinate_descent.py:530: ConvergenceWarning: Objective did not converge. You might want to increase the number of iterations. Duality gap: 8.512304273997671, tolerance: 0.2728\n",
      "  model = cd_fast.enet_coordinate_descent(\n",
      "/home/harry30225/.local/lib/python3.8/site-packages/sklearn/linear_model/_coordinate_descent.py:530: ConvergenceWarning: Objective did not converge. You might want to increase the number of iterations. Duality gap: 4.078713555831165, tolerance: 0.2728\n",
      "  model = cd_fast.enet_coordinate_descent(\n",
      "/home/harry30225/.local/lib/python3.8/site-packages/sklearn/linear_model/_coordinate_descent.py:530: ConvergenceWarning: Objective did not converge. You might want to increase the number of iterations. Duality gap: 28.355152544472276, tolerance: 0.2728\n",
      "  model = cd_fast.enet_coordinate_descent(\n",
      "/home/harry30225/.local/lib/python3.8/site-packages/sklearn/linear_model/_coordinate_descent.py:530: ConvergenceWarning: Objective did not converge. You might want to increase the number of iterations. Duality gap: 5.813044739417187, tolerance: 0.2728\n",
      "  model = cd_fast.enet_coordinate_descent(\n",
      "/home/harry30225/.local/lib/python3.8/site-packages/sklearn/linear_model/_coordinate_descent.py:530: ConvergenceWarning: Objective did not converge. You might want to increase the number of iterations. Duality gap: 11.99164702813816, tolerance: 0.2728\n",
      "  model = cd_fast.enet_coordinate_descent(\n",
      "/home/harry30225/.local/lib/python3.8/site-packages/sklearn/linear_model/_coordinate_descent.py:530: ConvergenceWarning: Objective did not converge. You might want to increase the number of iterations. Duality gap: 5.589183108511844, tolerance: 0.2728\n",
      "  model = cd_fast.enet_coordinate_descent(\n",
      "/home/harry30225/.local/lib/python3.8/site-packages/sklearn/linear_model/_coordinate_descent.py:530: ConvergenceWarning: Objective did not converge. You might want to increase the number of iterations. Duality gap: 18.066457176717662, tolerance: 0.2728\n",
      "  model = cd_fast.enet_coordinate_descent(\n",
      "/home/harry30225/.local/lib/python3.8/site-packages/sklearn/linear_model/_coordinate_descent.py:530: ConvergenceWarning: Objective did not converge. You might want to increase the number of iterations. Duality gap: 9.587389780004443, tolerance: 0.2728\n",
      "  model = cd_fast.enet_coordinate_descent(\n",
      "/home/harry30225/.local/lib/python3.8/site-packages/sklearn/linear_model/_coordinate_descent.py:530: ConvergenceWarning: Objective did not converge. You might want to increase the number of iterations. Duality gap: 12.656705757303945, tolerance: 0.2728\n",
      "  model = cd_fast.enet_coordinate_descent(\n",
      "/home/harry30225/.local/lib/python3.8/site-packages/sklearn/linear_model/_coordinate_descent.py:530: ConvergenceWarning: Objective did not converge. You might want to increase the number of iterations. Duality gap: 25.80177737850004, tolerance: 0.2728\n",
      "  model = cd_fast.enet_coordinate_descent(\n",
      "/home/harry30225/.local/lib/python3.8/site-packages/sklearn/linear_model/_coordinate_descent.py:530: ConvergenceWarning: Objective did not converge. You might want to increase the number of iterations. Duality gap: 3.6526622427114264, tolerance: 0.2728\n",
      "  model = cd_fast.enet_coordinate_descent(\n",
      "/home/harry30225/.local/lib/python3.8/site-packages/sklearn/linear_model/_coordinate_descent.py:530: ConvergenceWarning: Objective did not converge. You might want to increase the number of iterations. Duality gap: 9.016105907560402, tolerance: 0.2728\n",
      "  model = cd_fast.enet_coordinate_descent(\n",
      "/home/harry30225/.local/lib/python3.8/site-packages/sklearn/linear_model/_coordinate_descent.py:530: ConvergenceWarning: Objective did not converge. You might want to increase the number of iterations. Duality gap: 12.321706273897078, tolerance: 0.2728\n",
      "  model = cd_fast.enet_coordinate_descent(\n",
      "/home/harry30225/.local/lib/python3.8/site-packages/sklearn/linear_model/_coordinate_descent.py:530: ConvergenceWarning: Objective did not converge. You might want to increase the number of iterations. Duality gap: 22.395536331414718, tolerance: 0.2728\n",
      "  model = cd_fast.enet_coordinate_descent(\n",
      "/home/harry30225/.local/lib/python3.8/site-packages/sklearn/linear_model/_coordinate_descent.py:530: ConvergenceWarning: Objective did not converge. You might want to increase the number of iterations. Duality gap: 13.118533341793178, tolerance: 0.2728\n",
      "  model = cd_fast.enet_coordinate_descent(\n",
      "/home/harry30225/.local/lib/python3.8/site-packages/sklearn/linear_model/_coordinate_descent.py:530: ConvergenceWarning: Objective did not converge. You might want to increase the number of iterations. Duality gap: 5.467637123127365, tolerance: 0.2728\n",
      "  model = cd_fast.enet_coordinate_descent(\n",
      "/home/harry30225/.local/lib/python3.8/site-packages/sklearn/linear_model/_coordinate_descent.py:530: ConvergenceWarning: Objective did not converge. You might want to increase the number of iterations. Duality gap: 3.6555635262536015, tolerance: 0.2728\n",
      "  model = cd_fast.enet_coordinate_descent(\n",
      "/home/harry30225/.local/lib/python3.8/site-packages/sklearn/linear_model/_coordinate_descent.py:530: ConvergenceWarning: Objective did not converge. You might want to increase the number of iterations. Duality gap: 4.7130287786556835, tolerance: 0.2728\n",
      "  model = cd_fast.enet_coordinate_descent(\n",
      "/home/harry30225/.local/lib/python3.8/site-packages/sklearn/linear_model/_coordinate_descent.py:530: ConvergenceWarning: Objective did not converge. You might want to increase the number of iterations. Duality gap: 14.224404735994145, tolerance: 0.2728\n",
      "  model = cd_fast.enet_coordinate_descent(\n",
      "/home/harry30225/.local/lib/python3.8/site-packages/sklearn/linear_model/_coordinate_descent.py:530: ConvergenceWarning: Objective did not converge. You might want to increase the number of iterations. Duality gap: 29.22019094923772, tolerance: 0.2728\n",
      "  model = cd_fast.enet_coordinate_descent(\n",
      "/home/harry30225/.local/lib/python3.8/site-packages/sklearn/linear_model/_coordinate_descent.py:530: ConvergenceWarning: Objective did not converge. You might want to increase the number of iterations. Duality gap: 27.969867047917855, tolerance: 0.2728\n",
      "  model = cd_fast.enet_coordinate_descent(\n"
     ]
    },
    {
     "name": "stdout",
     "output_type": "stream",
     "text": [
      "Done\n"
     ]
    },
    {
     "name": "stderr",
     "output_type": "stream",
     "text": [
      "/home/harry30225/.local/lib/python3.8/site-packages/sklearn/linear_model/_coordinate_descent.py:530: ConvergenceWarning: Objective did not converge. You might want to increase the number of iterations. Duality gap: 118.00346689952613, tolerance: 0.2728\n",
      "  model = cd_fast.enet_coordinate_descent(\n",
      "/home/harry30225/.local/lib/python3.8/site-packages/sklearn/linear_model/_coordinate_descent.py:530: ConvergenceWarning: Objective did not converge. You might want to increase the number of iterations. Duality gap: 3.896907631351511, tolerance: 0.2728\n",
      "  model = cd_fast.enet_coordinate_descent(\n",
      "/home/harry30225/.local/lib/python3.8/site-packages/sklearn/linear_model/_coordinate_descent.py:530: ConvergenceWarning: Objective did not converge. You might want to increase the number of iterations. Duality gap: 25.925290577533435, tolerance: 0.2728\n",
      "  model = cd_fast.enet_coordinate_descent(\n",
      "/home/harry30225/.local/lib/python3.8/site-packages/sklearn/linear_model/_coordinate_descent.py:530: ConvergenceWarning: Objective did not converge. You might want to increase the number of iterations. Duality gap: 5.299267986544585, tolerance: 0.2728\n",
      "  model = cd_fast.enet_coordinate_descent(\n",
      "/home/harry30225/.local/lib/python3.8/site-packages/sklearn/linear_model/_coordinate_descent.py:530: ConvergenceWarning: Objective did not converge. You might want to increase the number of iterations. Duality gap: 74.36053907487079, tolerance: 0.2728\n",
      "  model = cd_fast.enet_coordinate_descent(\n",
      "/home/harry30225/.local/lib/python3.8/site-packages/sklearn/linear_model/_coordinate_descent.py:530: ConvergenceWarning: Objective did not converge. You might want to increase the number of iterations. Duality gap: 23.328935311098977, tolerance: 0.2728\n",
      "  model = cd_fast.enet_coordinate_descent(\n",
      "/home/harry30225/.local/lib/python3.8/site-packages/sklearn/linear_model/_coordinate_descent.py:530: ConvergenceWarning: Objective did not converge. You might want to increase the number of iterations. Duality gap: 17.79419544366481, tolerance: 0.2728\n",
      "  model = cd_fast.enet_coordinate_descent(\n",
      "/home/harry30225/.local/lib/python3.8/site-packages/sklearn/linear_model/_coordinate_descent.py:530: ConvergenceWarning: Objective did not converge. You might want to increase the number of iterations. Duality gap: 27.629258606849987, tolerance: 0.2728\n",
      "  model = cd_fast.enet_coordinate_descent(\n",
      "/home/harry30225/.local/lib/python3.8/site-packages/sklearn/linear_model/_coordinate_descent.py:530: ConvergenceWarning: Objective did not converge. You might want to increase the number of iterations. Duality gap: 0.010741378055558309, tolerance: 0.004200000000000001\n",
      "  model = cd_fast.enet_coordinate_descent(\n"
     ]
    }
   ],
   "source": [
    "ml = Lasso(alpha=0.01, max_iter=3000)\n",
    "r2_scores_ml = []\n",
    "mean_squared_error_ml = []\n",
    "\n",
    "for i in range(len(data_en_b)):\n",
    "    y_en = np.arange(len(words_en_b[i]))\n",
    "    y_sp = np.arange(len(words_sp_b[i]))\n",
    "    ml.fit(data_en_b[i], y_en)\n",
    "    y_pred_l = ml.predict(data_sp_b[i])\n",
    "    for i in range(len(y_pred_l)):\n",
    "        y_pred_l[i] = round(y_pred_l[i])\n",
    "    r2_scores_ml.append(r2_score(y_sp,y_pred_l))\n",
    "    mean_squared_error_ml.append(np.sqrt(mean_squared_error(y_sp,y_pred_l)))\n",
    "    \n",
    "print(\"Done\")"
   ]
  },
  {
   "cell_type": "code",
   "execution_count": 12,
   "id": "improved-dallas",
   "metadata": {},
   "outputs": [
    {
     "name": "stdout",
     "output_type": "stream",
     "text": [
      "Done\n"
     ]
    }
   ],
   "source": [
    "mr = Ridge(alpha=0.01)\n",
    "r2_scores_mr = []\n",
    "mean_squared_error_mr = []\n",
    "\n",
    "for i in range(len(data_en_b)):\n",
    "    y_en = np.arange(len(words_en_b[i]))\n",
    "    y_sp = np.arange(len(words_sp_b[i]))\n",
    "    mr.fit(data_en_b[i], y_en)\n",
    "    y_pred_r = mr.predict(data_sp_b[i])\n",
    "    for i in range(len(y_pred_r)):\n",
    "        y_pred_r[i] = round(y_pred_r[i])\n",
    "    r2_scores_mr.append(r2_score(y_sp,y_pred_r))\n",
    "    mean_squared_error_mr.append(np.sqrt(mean_squared_error(y_sp,y_pred_r)))\n",
    "    \n",
    "print(\"Done\")"
   ]
  },
  {
   "cell_type": "code",
   "execution_count": 75,
   "id": "annoying-tanzania",
   "metadata": {},
   "outputs": [
    {
     "data": {
      "text/plain": [
       "array([0.45544355, 0.13295455, 0.12296554, 0.19079912, 0.41174853,\n",
       "       0.12186584, 0.07683284, 0.26997801, 0.14442815, 0.33009531,\n",
       "       0.29583944, 0.35043988, 0.09010264, 0.14270528, 0.3644978 ,\n",
       "       0.09681085, 0.13068182, 0.21215176, 0.2710044 , 0.38999267,\n",
       "       0.32510997, 0.24803886, 0.36163856, 0.48123167, 0.06724707,\n",
       "       0.33583211, 0.21898827, 0.24158724, 0.21059384, 0.10403226,\n",
       "       0.29180718, 0.19404762])"
      ]
     },
     "execution_count": 75,
     "metadata": {},
     "output_type": "execute_result"
    }
   ],
   "source": [
    "r2_scores_m"
   ]
  },
  {
   "cell_type": "code",
   "execution_count": 76,
   "id": "atomic-public",
   "metadata": {},
   "outputs": [
    {
     "data": {
      "text/plain": [
       "array([14.67805547,  8.83087623,  8.58641733, 10.13117096, 14.02926629,\n",
       "        8.55907778,  7.35272058, 11.67863969,  9.10357073, 12.72853585,\n",
       "       12.1414193 , 13.06474263,  7.72779076,  9.06314653, 13.29209116,\n",
       "        7.91063367,  8.77585466, 10.57081773, 11.69735547, 13.69477546,\n",
       "       12.64478648, 11.27116065, 13.2461669 , 15.04784038,  7.06941034,\n",
       "       12.82423243, 10.70776587, 11.14850046, 10.53936075,  8.10285444,\n",
       "       12.07043133,  2.53105709])"
      ]
     },
     "execution_count": 76,
     "metadata": {},
     "output_type": "execute_result"
    }
   ],
   "source": [
    "mean_squared_error_m"
   ]
  },
  {
   "cell_type": "code",
   "execution_count": 78,
   "id": "executive-promotion",
   "metadata": {},
   "outputs": [
    {
     "data": {
      "text/plain": [
       "array([0.44915689, 0.13618035, 0.3840176 , 0.10819282, 0.66843842,\n",
       "       0.13079179, 0.15427053, 0.17047287, 0.18546554, 0.23610704,\n",
       "       0.25936584, 0.4588893 , 0.1166239 , 0.3001283 , 0.2372434 ,\n",
       "       0.07987537, 0.16699047, 0.35097141, 0.29649927, 0.45331745,\n",
       "       0.24792889, 0.20350073, 0.38128666, 0.22199413, 0.10062317,\n",
       "       0.37791422, 0.16323314, 0.16251833, 0.24385997, 0.1557368 ,\n",
       "       0.415011  , 0.18452381])"
      ]
     },
     "execution_count": 78,
     "metadata": {},
     "output_type": "execute_result"
    }
   ],
   "source": [
    "r2_scores_ml"
   ]
  },
  {
   "cell_type": "code",
   "execution_count": 79,
   "id": "anticipated-destiny",
   "metadata": {},
   "outputs": [
    {
     "data": {
      "text/plain": [
       "array([14.58648775,  8.9083879 , 13.60147051,  8.21155817, 17.49955357,\n",
       "        8.77852493,  9.33114744,  9.69415094, 10.01834255, 11.04323888,\n",
       "       11.48334392, 14.72800266,  8.42754042, 12.21647197, 11.06514799,\n",
       "        7.44038809,  9.61728587, 13.07341052, 12.15299603, 14.64715203,\n",
       "       11.26908104, 10.39493567, 13.55861119, 10.76742773,  8.01268526,\n",
       "       13.50549657,  9.53365748,  9.5176645 , 11.19186367,  9.36457754,\n",
       "       14.07874062,  2.48117916])"
      ]
     },
     "execution_count": 79,
     "metadata": {},
     "output_type": "execute_result"
    }
   ],
   "source": [
    "mean_squared_error_ml"
   ]
  },
  {
   "cell_type": "code",
   "execution_count": 81,
   "id": "disciplinary-webmaster",
   "metadata": {},
   "outputs": [
    {
     "data": {
      "text/plain": [
       "array([0.45544355, 0.13295455, 0.12296554, 0.19079912, 0.41174853,\n",
       "       0.12186584, 0.07683284, 0.26997801, 0.14442815, 0.33009531,\n",
       "       0.29583944, 0.35043988, 0.09010264, 0.14270528, 0.3644978 ,\n",
       "       0.09681085, 0.13068182, 0.21215176, 0.2710044 , 0.38999267,\n",
       "       0.32510997, 0.24803886, 0.36163856, 0.48123167, 0.06724707,\n",
       "       0.33583211, 0.21898827, 0.24158724, 0.21059384, 0.10403226,\n",
       "       0.29180718, 0.19404762])"
      ]
     },
     "execution_count": 81,
     "metadata": {},
     "output_type": "execute_result"
    }
   ],
   "source": [
    "r2_scores_mr"
   ]
  },
  {
   "cell_type": "code",
   "execution_count": 83,
   "id": "parliamentary-shaft",
   "metadata": {},
   "outputs": [
    {
     "data": {
      "text/plain": [
       "array([14.67805547,  8.83087623,  8.58641733, 10.13117096, 14.02926629,\n",
       "        8.55907778,  7.35272058, 11.67863969,  9.10357073, 12.72853585,\n",
       "       12.1414193 , 13.06474263,  7.72779076,  9.06314653, 13.29209116,\n",
       "        7.91063367,  8.77585466, 10.57081773, 11.69735547, 13.69477546,\n",
       "       12.64478648, 11.27116065, 13.2461669 , 15.04784038,  7.06941034,\n",
       "       12.82423243, 10.70776587, 11.14850046, 10.53936075,  8.10285444,\n",
       "       12.07043133,  2.53105709])"
      ]
     },
     "execution_count": 83,
     "metadata": {},
     "output_type": "execute_result"
    }
   ],
   "source": [
    "mean_squared_error_mr"
   ]
  },
  {
   "cell_type": "code",
   "execution_count": 96,
   "id": "improving-alliance",
   "metadata": {},
   "outputs": [
    {
     "data": {
      "text/plain": [
       "<matplotlib.legend.Legend at 0x7f4cabf96430>"
      ]
     },
     "execution_count": 96,
     "metadata": {},
     "output_type": "execute_result"
    },
    {
     "data": {
      "image/png": "[encoded data removed]",
      "text/plain": [
       "<Figure size 432x288 with 1 Axes>"
      ]
     },
     "metadata": {
      "needs_background": "light"
     },
     "output_type": "display_data"
    }
   ],
   "source": [
    "plt.plot(r2_scores_ml, 'g' , label='Linear Regression Lasso')\n",
    "plt.plot(r2_scores_mr, 'b' , label='Linear Regression Ridge')\n",
    "plt.ylabel(\"r2 scores\")\n",
    "plt.title(\"R2 scores\")\n",
    "plt.legend()"
   ]
  },
  {
   "cell_type": "code",
   "execution_count": 97,
   "id": "endless-venezuela",
   "metadata": {},
   "outputs": [
    {
     "data": {
      "text/plain": [
       "<matplotlib.legend.Legend at 0x7f4cabf05ee0>"
      ]
     },
     "execution_count": 97,
     "metadata": {},
     "output_type": "execute_result"
    },
    {
     "data": {
      "image/png": "[encoded data removed]",
      "text/plain": [
       "<Figure size 432x288 with 1 Axes>"
      ]
     },
     "metadata": {
      "needs_background": "light"
     },
     "output_type": "display_data"
    }
   ],
   "source": [
    "plt.plot(mean_squared_error_ml, 'g' , label='Linear Regression Lasso')\n",
    "plt.plot(mean_squared_error_mr, 'b' , label='Linear Regression Ridge')\n",
    "plt.ylabel(\"MSE\")\n",
    "plt.title(\"Mean Squared Error\")\n",
    "plt.legend()"
   ]
  },
  {
   "cell_type": "code",
   "execution_count": 15,
   "id": "posted-bacon",
   "metadata": {},
   "outputs": [],
   "source": [
    "### Now using bert embeddings\n",
    "from sentence_transformers import SentenceTransformer\n",
    "model = SentenceTransformer('distiluse-base-multilingual-cased-v2')"
   ]
  },
  {
   "cell_type": "code",
   "execution_count": 14,
   "id": "sonic-benjamin",
   "metadata": {},
   "outputs": [
    {
     "name": "stdout",
     "output_type": "stream",
     "text": [
      "Done for Batch : 1\n",
      "Done for Batch : 2\n",
      "Done for Batch : 3\n",
      "Done for Batch : 4\n",
      "Done for Batch : 5\n",
      "Done for Batch : 6\n",
      "Done for Batch : 7\n",
      "Done for Batch : 8\n",
      "Done for Batch : 9\n",
      "Done for Batch : 10\n",
      "Done for Batch : 11\n",
      "Done for Batch : 12\n",
      "Done for Batch : 13\n",
      "Done for Batch : 14\n",
      "Done for Batch : 15\n",
      "Done for Batch : 16\n",
      "Done for Batch : 17\n",
      "Done for Batch : 18\n",
      "Done for Batch : 19\n",
      "Done for Batch : 20\n",
      "Done for Batch : 21\n",
      "Done for Batch : 22\n",
      "Done for Batch : 23\n",
      "Done for Batch : 24\n",
      "Done for Batch : 25\n",
      "Done for Batch : 26\n",
      "Done for Batch : 27\n",
      "Done for Batch : 28\n",
      "Done for Batch : 29\n",
      "Done for Batch : 30\n",
      "Done for Batch : 31\n",
      "Done for Batch : 32\n",
      "Done\n"
     ]
    }
   ],
   "source": [
    "## Lets train ridge regression model on it  for english to spanish\n",
    "\n",
    "accuracy_2v2 = []\n",
    "pearson = []\n",
    "\n",
    "for i in range(len(data_en_b)):\n",
    "    y_en = []\n",
    "    y_sp = []\n",
    "    for j in range(len(words_en_b[i])):\n",
    "        y_en.append(model.encode(words_en_b[i][j]))\n",
    "        y_sp.append(model.encode(words_sp_b[i][j]))\n",
    "    y_en = np.array(y_en)\n",
    "    y_sp = np.array(y_sp)\n",
    "    y_pred = []\n",
    "    for j in range(y_en.shape[1]):\n",
    "        model_ridge = Ridge(alpha=0.01)\n",
    "        model_ridge.fit(data_en_b[i], y_en[:,j])\n",
    "        y_pred.append(model_ridge.predict(data_sp_b[i]))\n",
    "    y_pred = np.array(y_pred, dtype=float)\n",
    "    y_pred = y_pred.T\n",
    "    \n",
    "    N = y_pred.shape[0]\n",
    "    accu_2v2 = 0\n",
    "    for it in range(N):\n",
    "        for j in range(it+1,N):\n",
    "            i1 = np.dot(y_sp[it],y_pred[it]) / (norm(y_sp[it])*norm(y_pred[it]))\n",
    "            i2 = np.dot(y_sp[j],y_pred[j]) / (norm(y_sp[j])*norm(y_pred[j]))\n",
    "            i3 = np.dot(y_sp[it],y_pred[j]) / (norm(y_sp[it])*norm(y_pred[j]))\n",
    "            i4 = np.dot(y_sp[j],y_pred[it]) / (norm(y_sp[j])*norm(y_pred[it]))\n",
    "            if i1 + i2 < i3 + i4:\n",
    "                accu_2v2 += 1\n",
    "    accu_2v2 = accu_2v2 / ((N*(N-1))/2)\n",
    "    accuracy_2v2.append(accu_2v2)\n",
    "    p = 0\n",
    "    for j in range(N):\n",
    "        corr, _ = pearsonr(y_sp[j], y_pred[j])\n",
    "        p += corr\n",
    "    p = p / N\n",
    "    pearson.append(p*2)\n",
    "    print(\"Done for Batch : \" + str(i+1))\n",
    "print(\"Done\")"
   ]
  },
  {
   "cell_type": "code",
   "execution_count": 17,
   "id": "fancy-acting",
   "metadata": {},
   "outputs": [
    {
     "data": {
      "text/plain": [
       "[]"
      ]
     },
     "execution_count": 17,
     "metadata": {},
     "output_type": "execute_result"
    },
    {
     "data": {
      "image/png": "[encoded data removed]",
      "text/plain": [
       "<Figure size 432x288 with 1 Axes>"
      ]
     },
     "metadata": {
      "needs_background": "light"
     },
     "output_type": "display_data"
    }
   ],
   "source": [
    "plt.plot(accuracy_2v2, 'r', label=\"2v2 Accuracy\")\n",
    "plt.plot(pearson , 'b' , label = \"Pearson Correlation\")\n",
    "plt.title(\"2v2 Accuracy and Pearson's Correlation\")\n",
    "plt.legend()\n",
    "plt.plot()"
   ]
  },
  {
   "cell_type": "code",
   "execution_count": 25,
   "id": "broad-surveillance",
   "metadata": {},
   "outputs": [
    {
     "name": "stdout",
     "output_type": "stream",
     "text": [
      "Done for Batch : 1\n",
      "Done for Batch : 2\n",
      "Done for Batch : 3\n",
      "Done for Batch : 4\n",
      "Done for Batch : 5\n",
      "Done for Batch : 6\n",
      "Done for Batch : 7\n",
      "Done for Batch : 8\n",
      "Done for Batch : 9\n",
      "Done for Batch : 10\n",
      "Done for Batch : 11\n",
      "Done for Batch : 12\n",
      "Done for Batch : 13\n",
      "Done for Batch : 14\n",
      "Done for Batch : 15\n",
      "Done for Batch : 16\n",
      "Done for Batch : 17\n",
      "Done for Batch : 18\n",
      "Done for Batch : 19\n",
      "Done for Batch : 20\n",
      "Done for Batch : 21\n",
      "Done for Batch : 22\n",
      "Done for Batch : 23\n",
      "Done for Batch : 24\n",
      "Done for Batch : 25\n",
      "Done for Batch : 26\n",
      "Done for Batch : 27\n",
      "Done for Batch : 28\n",
      "Done for Batch : 29\n",
      "Done for Batch : 30\n",
      "Done for Batch : 31\n",
      "Done for Batch : 32\n",
      "Done\n"
     ]
    }
   ],
   "source": [
    "### Now using random forest regressor ennglish to spanish\n",
    "\n",
    "\n",
    "accuracy_2v2_rf = []\n",
    "pearson_rf = []\n",
    "\n",
    "for i in range(len(data_en_b)):\n",
    "    y_en = []\n",
    "    y_sp = []\n",
    "    for j in range(len(words_en_b[i])):\n",
    "        y_en.append(model.encode(words_en_b[i][j]))\n",
    "        y_sp.append(model.encode(words_sp_b[i][j]))\n",
    "    y_en = np.array(y_en)\n",
    "    y_sp = np.array(y_sp)\n",
    "    y_pred = []\n",
    "    for j in range(y_en.shape[1]):\n",
    "        model_rf = RandomForestRegressor(max_depth=None, random_state=0)\n",
    "        model_rf.fit(data_en_b[i], y_en[:,j])\n",
    "        y_pred.append(model_rf.predict(data_sp_b[i]))\n",
    "    y_pred = np.array(y_pred, dtype=float)\n",
    "    y_pred = y_pred.T\n",
    "    \n",
    "    N = y_pred.shape[0]\n",
    "    accu_2v2 = 0\n",
    "    for it in range(N):\n",
    "        for j in range(it+1,N):\n",
    "            i1 = np.dot(y_sp[it],y_pred[it]) / (norm(y_sp[it])*norm(y_pred[it]))\n",
    "            i2 = np.dot(y_sp[j],y_pred[j]) / (norm(y_sp[j])*norm(y_pred[j]))\n",
    "            i3 = np.dot(y_sp[it],y_pred[j]) / (norm(y_sp[it])*norm(y_pred[j]))\n",
    "            i4 = np.dot(y_sp[j],y_pred[it]) / (norm(y_sp[j])*norm(y_pred[it]))\n",
    "            if i1 + i2 < i3 + i4:\n",
    "                accu_2v2 += 1\n",
    "    accu_2v2 = accu_2v2 / ((N*(N-1))/2)\n",
    "    accuracy_2v2_rf.append(accu_2v2)\n",
    "    p = 0\n",
    "    for j in range(N):\n",
    "        corr, _ = pearsonr(y_sp[j], y_pred[j])\n",
    "        p += corr\n",
    "    p = p / N\n",
    "    pearson_rf.append(p)\n",
    "    print(\"Done for Batch : \" + str(i+1))\n",
    "print(\"Done\")"
   ]
  },
  {
   "cell_type": "code",
   "execution_count": 26,
   "id": "ancient-budget",
   "metadata": {},
   "outputs": [
    {
     "data": {
      "text/plain": [
       "[0.7864460424040365,\n",
       " 0.6687011655898653,\n",
       " 0.6274331398536901,\n",
       " 0.6436086619208923,\n",
       " 0.6470054907056585,\n",
       " 0.6649441186712325,\n",
       " 0.5804833043268613,\n",
       " 0.585917797940315,\n",
       " 0.5985553420885937,\n",
       " 0.5977158977046388,\n",
       " 0.6042721641625594,\n",
       " 0.5970543239812409,\n",
       " 0.6145828063622076,\n",
       " 0.6048458646099424,\n",
       " 0.6074419715675167,\n",
       " 0.5758190936463248,\n",
       " 0.6257344453250736,\n",
       " 0.6289825787287078,\n",
       " 0.5999682319733486,\n",
       " 0.60634045883779,\n",
       " 0.5966415895479569,\n",
       " 0.5855084112768232,\n",
       " 0.5933496960599224,\n",
       " 0.5768144175629786,\n",
       " 0.5763622228914913,\n",
       " 0.5863541892896751,\n",
       " 0.6231510779475877,\n",
       " 0.612238262618304,\n",
       " 0.5749530940971114,\n",
       " 0.6169134098946719,\n",
       " 0.5551042051684059,\n",
       " 0.6518586694961458]"
      ]
     },
     "execution_count": 26,
     "metadata": {},
     "output_type": "execute_result"
    }
   ],
   "source": [
    "pearson_rf"
   ]
  },
  {
   "cell_type": "code",
   "execution_count": 27,
   "id": "ruled-frontier",
   "metadata": {},
   "outputs": [
    {
     "data": {
      "text/plain": [
       "[]"
      ]
     },
     "execution_count": 27,
     "metadata": {},
     "output_type": "execute_result"
    },
    {
     "data": {
      "image/png": "[encoded data removed]",
      "text/plain": [
       "<Figure size 432x288 with 1 Axes>"
      ]
     },
     "metadata": {
      "needs_background": "light"
     },
     "output_type": "display_data"
    }
   ],
   "source": [
    "plt.plot(accuracy_2v2_rf, 'r', label=\"2v2 Accuracy\")\n",
    "plt.plot(pearson_rf , 'b' , label = \"Pearson Correlation\")\n",
    "plt.title(\"2v2 Accuracy and Pearson's Correlation\")\n",
    "plt.legend()\n",
    "plt.plot()"
   ]
  },
  {
   "cell_type": "code",
   "execution_count": 35,
   "id": "pediatric-student",
   "metadata": {},
   "outputs": [
    {
     "name": "stdout",
     "output_type": "stream",
     "text": [
      "Done for Batch : 1\n",
      "Done for Batch : 2\n",
      "Done for Batch : 3\n",
      "Done for Batch : 4\n",
      "Done for Batch : 5\n",
      "Done for Batch : 6\n",
      "Done for Batch : 7\n",
      "Done for Batch : 8\n",
      "Done for Batch : 9\n",
      "Done for Batch : 10\n",
      "Done for Batch : 11\n",
      "Done for Batch : 12\n",
      "Done for Batch : 13\n",
      "Done for Batch : 14\n",
      "Done for Batch : 15\n",
      "Done for Batch : 16\n",
      "Done for Batch : 17\n",
      "Done for Batch : 18\n",
      "Done for Batch : 19\n",
      "Done for Batch : 20\n",
      "Done for Batch : 21\n",
      "Done for Batch : 22\n",
      "Done for Batch : 23\n",
      "Done for Batch : 24\n",
      "Done for Batch : 25\n",
      "Done for Batch : 26\n",
      "Done for Batch : 27\n",
      "Done for Batch : 28\n",
      "Done for Batch : 29\n",
      "Done for Batch : 30\n",
      "Done for Batch : 31\n",
      "Done for Batch : 32\n",
      "Done\n"
     ]
    }
   ],
   "source": [
    "### Now using bagging regressor english to spanish\n",
    "\n",
    "\n",
    "accuracy_2v2_bg = []\n",
    "pearson_bg = []\n",
    "\n",
    "for i in range(len(data_en_b)):\n",
    "    y_en = []\n",
    "    y_sp = []\n",
    "    for j in range(len(words_en_b[i])):\n",
    "        y_en.append(model.encode(words_en_b[i][j]))\n",
    "        y_sp.append(model.encode(words_sp_b[i][j]))\n",
    "    y_en = np.array(y_en)\n",
    "    y_sp = np.array(y_sp)\n",
    "    y_pred = []\n",
    "    for j in range(y_en.shape[1]):\n",
    "        model_bg = BaggingRegressor(base_estimator=SVR(),n_estimators=100, random_state=0)\n",
    "        model_bg.fit(data_en_b[i], y_en[:,j])\n",
    "        y_pred.append(model_bg.predict(data_sp_b[i]))\n",
    "    y_pred = np.array(y_pred, dtype=float)\n",
    "    y_pred = y_pred.T\n",
    "    \n",
    "    N = y_pred.shape[0]\n",
    "    accu_2v2 = 0\n",
    "    for it in range(N):\n",
    "        for j in range(it+1,N):\n",
    "            i1 = np.dot(y_sp[it],y_pred[it]) / (norm(y_sp[it])*norm(y_pred[it]))\n",
    "            i2 = np.dot(y_sp[j],y_pred[j]) / (norm(y_sp[j])*norm(y_pred[j]))\n",
    "            i3 = np.dot(y_sp[it],y_pred[j]) / (norm(y_sp[it])*norm(y_pred[j]))\n",
    "            i4 = np.dot(y_sp[j],y_pred[it]) / (norm(y_sp[j])*norm(y_pred[it]))\n",
    "            if i1 + i2 < i3 + i4:\n",
    "                accu_2v2 += 1\n",
    "    accu_2v2 = accu_2v2 / ((N*(N-1))/2)\n",
    "    accuracy_2v2_bg.append(accu_2v2)\n",
    "    p = 0\n",
    "    for j in range(N):\n",
    "        corr, _ = pearsonr(y_sp[j], y_pred[j])\n",
    "        p += corr\n",
    "    p = p / N\n",
    "    pearson_bg.append(p)\n",
    "    print(\"Done for Batch : \" + str(i+1))\n",
    "print(\"Done\")"
   ]
  },
  {
   "cell_type": "code",
   "execution_count": 36,
   "id": "respiratory-electricity",
   "metadata": {},
   "outputs": [
    {
     "data": {
      "text/plain": [
       "[0.4959677419354839,\n",
       " 0.3649193548387097,\n",
       " 0.38306451612903225,\n",
       " 0.6512096774193549,\n",
       " 0.4435483870967742,\n",
       " 0.5362903225806451,\n",
       " 0.45564516129032256,\n",
       " 0.5665322580645161,\n",
       " 0.5120967741935484,\n",
       " 0.40524193548387094,\n",
       " 0.5241935483870968,\n",
       " 0.4334677419354839,\n",
       " 0.3911290322580645,\n",
       " 0.4939516129032258,\n",
       " 0.4092741935483871,\n",
       " 0.4254032258064516,\n",
       " 0.4536290322580645,\n",
       " 0.5241935483870968,\n",
       " 0.6048387096774194,\n",
       " 0.657258064516129,\n",
       " 0.4435483870967742,\n",
       " 0.4737903225806452,\n",
       " 0.6290322580645161,\n",
       " 0.530241935483871,\n",
       " 0.6491935483870968,\n",
       " 0.4899193548387097,\n",
       " 0.4112903225806452,\n",
       " 0.5342741935483871,\n",
       " 0.4838709677419355,\n",
       " 0.4173387096774194,\n",
       " 0.5,\n",
       " 0.75]"
      ]
     },
     "execution_count": 36,
     "metadata": {},
     "output_type": "execute_result"
    }
   ],
   "source": [
    "accuracy_2v2_bg"
   ]
  },
  {
   "cell_type": "code",
   "execution_count": 38,
   "id": "commercial-specialist",
   "metadata": {},
   "outputs": [
    {
     "data": {
      "text/plain": [
       "[]"
      ]
     },
     "execution_count": 38,
     "metadata": {},
     "output_type": "execute_result"
    },
    {
     "data": {
      "image/png": "[encoded data removed]",
      "text/plain": [
       "<Figure size 432x288 with 1 Axes>"
      ]
     },
     "metadata": {
      "needs_background": "light"
     },
     "output_type": "display_data"
    }
   ],
   "source": [
    "plt.plot(accuracy_2v2_bg, 'r', label=\"2v2 Accuracy\")\n",
    "plt.plot(pearson_bg , 'b' , label = \"Pearson Correlation\")\n",
    "plt.title(\"2v2 Accuracy and Pearson's Correlation\")\n",
    "plt.legend()\n",
    "plt.plot()"
   ]
  },
  {
   "cell_type": "code",
   "execution_count": 24,
   "id": "intimate-qualification",
   "metadata": {},
   "outputs": [
    {
     "name": "stdout",
     "output_type": "stream",
     "text": [
      "Done for Batch : 1\n",
      "Done for Batch : 2\n",
      "Done for Batch : 3\n",
      "Done for Batch : 4\n",
      "Done for Batch : 5\n",
      "Done for Batch : 6\n",
      "Done for Batch : 7\n",
      "Done for Batch : 8\n",
      "Done for Batch : 9\n",
      "Done for Batch : 10\n",
      "Done for Batch : 11\n",
      "Done for Batch : 12\n",
      "Done for Batch : 13\n",
      "Done for Batch : 14\n",
      "Done for Batch : 15\n",
      "Done for Batch : 16\n",
      "Done for Batch : 17\n",
      "Done for Batch : 18\n",
      "Done for Batch : 19\n",
      "Done for Batch : 20\n",
      "Done for Batch : 21\n",
      "Done for Batch : 22\n",
      "Done for Batch : 23\n",
      "Done for Batch : 24\n",
      "Done for Batch : 25\n",
      "Done for Batch : 26\n",
      "Done for Batch : 27\n",
      "Done for Batch : 28\n",
      "Done for Batch : 29\n",
      "Done for Batch : 30\n",
      "Done for Batch : 31\n",
      "Done for Batch : 32\n",
      "Done\n"
     ]
    }
   ],
   "source": [
    "## Lets train ridge regression model on it  for spanish to english\n",
    "\n",
    "accuracy_2v2_s2e = []\n",
    "pearson_s2e = []\n",
    "\n",
    "for i in range(len(data_en_b)):\n",
    "    y_en = []\n",
    "    y_sp = []\n",
    "    for j in range(len(words_en_b[i])):\n",
    "        y_en.append(model.encode(words_en_b[i][j]))\n",
    "        y_sp.append(model.encode(words_sp_b[i][j]))\n",
    "    y_en = np.array(y_en)\n",
    "    y_sp = np.array(y_sp)\n",
    "    y_pred = []\n",
    "    for j in range(y_sp.shape[1]):\n",
    "        model_ridge = Ridge(alpha=0.01)\n",
    "        model_ridge.fit(data_sp_b[i], y_sp[:,j])\n",
    "        y_pred.append(model_ridge.predict(data_en_b[i]))\n",
    "    y_pred = np.array(y_pred, dtype=float)\n",
    "    y_pred = y_pred.T\n",
    "    \n",
    "    N = y_pred.shape[0]\n",
    "    accu_2v2 = 0\n",
    "    for it in range(N):\n",
    "        for j in range(it+1,N):\n",
    "            i1 = np.dot(y_en[it],y_pred[it]) / (norm(y_en[it])*norm(y_pred[it]))\n",
    "            i2 = np.dot(y_en[j],y_pred[j]) / (norm(y_en[j])*norm(y_pred[j]))\n",
    "            i3 = np.dot(y_en[it],y_pred[j]) / (norm(y_en[it])*norm(y_pred[j]))\n",
    "            i4 = np.dot(y_en[j],y_pred[it]) / (norm(y_en[j])*norm(y_pred[it]))\n",
    "            if i1 + i2 < i3 + i4:\n",
    "                accu_2v2 += 1\n",
    "    accu_2v2 = accu_2v2 / ((N*(N-1))/2)\n",
    "    accuracy_2v2_s2e.append(accu_2v2)\n",
    "    p = 0\n",
    "    for j in range(N):\n",
    "        corr, _ = pearsonr(y_sp[j], y_pred[j])\n",
    "        p += corr\n",
    "    p = p / N\n",
    "    pearson_s2e.append(p)\n",
    "    print(\"Done for Batch : \" + str(i+1))\n",
    "print(\"Done\")"
   ]
  },
  {
   "cell_type": "code",
   "execution_count": 25,
   "id": "automated-break",
   "metadata": {},
   "outputs": [
    {
     "data": {
      "text/plain": [
       "[0.5,\n",
       " 0.5120967741935484,\n",
       " 0.5443548387096774,\n",
       " 0.592741935483871,\n",
       " 0.5080645161290323,\n",
       " 0.5181451612903226,\n",
       " 0.5221774193548387,\n",
       " 0.5120967741935484,\n",
       " 0.38911290322580644,\n",
       " 0.5080645161290323,\n",
       " 0.5745967741935484,\n",
       " 0.5100806451612904,\n",
       " 0.42943548387096775,\n",
       " 0.4899193548387097,\n",
       " 0.5907258064516129,\n",
       " 0.4576612903225806,\n",
       " 0.5020161290322581,\n",
       " 0.4798387096774194,\n",
       " 0.5120967741935484,\n",
       " 0.5362903225806451,\n",
       " 0.5342741935483871,\n",
       " 0.5544354838709677,\n",
       " 0.5141129032258065,\n",
       " 0.4012096774193548,\n",
       " 0.5604838709677419,\n",
       " 0.4657258064516129,\n",
       " 0.45564516129032256,\n",
       " 0.5080645161290323,\n",
       " 0.39314516129032256,\n",
       " 0.48588709677419356,\n",
       " 0.4415322580645161,\n",
       " 0.5]"
      ]
     },
     "execution_count": 25,
     "metadata": {},
     "output_type": "execute_result"
    }
   ],
   "source": [
    "accuracy_2v2_s2e"
   ]
  },
  {
   "cell_type": "code",
   "execution_count": 26,
   "id": "developmental-ethernet",
   "metadata": {},
   "outputs": [
    {
     "data": {
      "text/plain": [
       "[]"
      ]
     },
     "execution_count": 26,
     "metadata": {},
     "output_type": "execute_result"
    },
    {
     "data": {
      "image/png": "[encoded data removed]",
      "text/plain": [
       "<Figure size 432x288 with 1 Axes>"
      ]
     },
     "metadata": {
      "needs_background": "light"
     },
     "output_type": "display_data"
    }
   ],
   "source": [
    "plt.plot(accuracy_2v2_s2e, 'r', label=\"2v2 Accuracy\")\n",
    "plt.plot(pearson_s2e , 'b' , label = \"Pearson Correlation\")\n",
    "plt.title(\"2v2 Accuracy and Pearson's Correlation Spanish to English\")\n",
    "plt.legend()\n",
    "plt.plot()"
   ]
  },
  {
   "cell_type": "code",
   "execution_count": 27,
   "id": "developmental-haven",
   "metadata": {},
   "outputs": [
    {
     "name": "stdout",
     "output_type": "stream",
     "text": [
      "Done for Batch : 1\n",
      "Done for Batch : 2\n",
      "Done for Batch : 3\n",
      "Done for Batch : 4\n",
      "Done for Batch : 5\n",
      "Done for Batch : 6\n",
      "Done for Batch : 7\n",
      "Done for Batch : 8\n",
      "Done for Batch : 9\n",
      "Done for Batch : 10\n",
      "Done for Batch : 11\n",
      "Done for Batch : 12\n",
      "Done for Batch : 13\n",
      "Done for Batch : 14\n",
      "Done for Batch : 15\n",
      "Done for Batch : 16\n",
      "Done for Batch : 17\n",
      "Done for Batch : 18\n",
      "Done for Batch : 19\n",
      "Done for Batch : 20\n",
      "Done for Batch : 21\n",
      "Done for Batch : 22\n",
      "Done for Batch : 23\n",
      "Done for Batch : 24\n",
      "Done for Batch : 25\n",
      "Done for Batch : 26\n",
      "Done for Batch : 27\n",
      "Done for Batch : 28\n",
      "Done for Batch : 29\n",
      "Done for Batch : 30\n",
      "Done for Batch : 31\n",
      "Done for Batch : 32\n",
      "Done\n"
     ]
    }
   ],
   "source": [
    "### Now using random forest regressor spanish ---> english\n",
    "\n",
    "\n",
    "accuracy_2v2_rf_s2e = []\n",
    "pearson_rf_s2e = []\n",
    "\n",
    "for i in range(len(data_en_b)):\n",
    "    y_en = []\n",
    "    y_sp = []\n",
    "    for j in range(len(words_en_b[i])):\n",
    "        y_en.append(model.encode(words_en_b[i][j]))\n",
    "        y_sp.append(model.encode(words_sp_b[i][j]))\n",
    "    y_en = np.array(y_en)\n",
    "    y_sp = np.array(y_sp)\n",
    "    y_pred = []\n",
    "    for j in range(y_sp.shape[1]):\n",
    "        model_rf = RandomForestRegressor(max_depth=None, random_state=0)\n",
    "        model_rf.fit(data_sp_b[i], y_sp[:,j])\n",
    "        y_pred.append(model_rf.predict(data_en_b[i]))\n",
    "    y_pred = np.array(y_pred, dtype=float)\n",
    "    y_pred = y_pred.T\n",
    "    \n",
    "    N = y_pred.shape[0]\n",
    "    accu_2v2 = 0\n",
    "    for it in range(N):\n",
    "        for j in range(it+1,N):\n",
    "            i1 = np.dot(y_en[it],y_pred[it]) / (norm(y_en[it])*norm(y_pred[it]))\n",
    "            i2 = np.dot(y_en[j],y_pred[j]) / (norm(y_en[j])*norm(y_pred[j]))\n",
    "            i3 = np.dot(y_en[it],y_pred[j]) / (norm(y_en[it])*norm(y_pred[j]))\n",
    "            i4 = np.dot(y_en[j],y_pred[it]) / (norm(y_en[j])*norm(y_pred[it]))\n",
    "            if i1 + i2 < i3 + i4:\n",
    "                accu_2v2 += 1\n",
    "    accu_2v2 = accu_2v2 / ((N*(N-1))/2)\n",
    "    accuracy_2v2_rf_s2e.append(accu_2v2)\n",
    "    p = 0\n",
    "    for j in range(N):\n",
    "        corr, _ = pearsonr(y_sp[j], y_pred[j])\n",
    "        p += corr\n",
    "    p = p / N\n",
    "    pearson_rf_s2e.append(p)\n",
    "    print(\"Done for Batch : \" + str(i+1))\n",
    "print(\"Done\")"
   ]
  },
  {
   "cell_type": "code",
   "execution_count": 28,
   "id": "contained-korean",
   "metadata": {},
   "outputs": [
    {
     "data": {
      "text/plain": [
       "[0.49798387096774194,\n",
       " 0.4959677419354839,\n",
       " 0.32661290322580644,\n",
       " 0.3649193548387097,\n",
       " 0.5141129032258065,\n",
       " 0.43951612903225806,\n",
       " 0.5443548387096774,\n",
       " 0.5584677419354839,\n",
       " 0.4899193548387097,\n",
       " 0.5,\n",
       " 0.4879032258064516,\n",
       " 0.45564516129032256,\n",
       " 0.4254032258064516,\n",
       " 0.4798387096774194,\n",
       " 0.532258064516129,\n",
       " 0.47580645161290325,\n",
       " 0.5564516129032258,\n",
       " 0.5685483870967742,\n",
       " 0.5040322580645161,\n",
       " 0.532258064516129,\n",
       " 0.4657258064516129,\n",
       " 0.5786290322580645,\n",
       " 0.594758064516129,\n",
       " 0.5604838709677419,\n",
       " 0.5544354838709677,\n",
       " 0.4475806451612903,\n",
       " 0.5282258064516129,\n",
       " 0.5221774193548387,\n",
       " 0.46774193548387094,\n",
       " 0.41935483870967744,\n",
       " 0.5463709677419355,\n",
       " 0.35714285714285715]"
      ]
     },
     "execution_count": 28,
     "metadata": {},
     "output_type": "execute_result"
    }
   ],
   "source": [
    "accuracy_2v2_rf_s2e"
   ]
  },
  {
   "cell_type": "code",
   "execution_count": 30,
   "id": "turned-frequency",
   "metadata": {},
   "outputs": [
    {
     "data": {
      "text/plain": [
       "[]"
      ]
     },
     "execution_count": 30,
     "metadata": {},
     "output_type": "execute_result"
    },
    {
     "data": {
      "image/png": "[encoded data removed]",
      "text/plain": [
       "<Figure size 432x288 with 1 Axes>"
      ]
     },
     "metadata": {
      "needs_background": "light"
     },
     "output_type": "display_data"
    }
   ],
   "source": [
    "plt.plot(accuracy_2v2_rf_s2e, 'r', label=\"2v2 Accuracy\")\n",
    "plt.plot(pearson_rf_s2e , 'b' , label = \"Pearson Correlation\")\n",
    "plt.title(\"2v2 Accuracy and Pearson's Correlation Spanish to English\")\n",
    "plt.legend()\n",
    "plt.plot()"
   ]
  },
  {
   "cell_type": "code",
   "execution_count": 31,
   "id": "gothic-spain",
   "metadata": {},
   "outputs": [
    {
     "name": "stdout",
     "output_type": "stream",
     "text": [
      "Done for Batch : 1\n",
      "Done for Batch : 2\n",
      "Done for Batch : 3\n",
      "Done for Batch : 4\n",
      "Done for Batch : 5\n",
      "Done for Batch : 6\n",
      "Done for Batch : 7\n",
      "Done for Batch : 8\n",
      "Done for Batch : 9\n",
      "Done for Batch : 10\n",
      "Done for Batch : 11\n",
      "Done for Batch : 12\n",
      "Done for Batch : 13\n",
      "Done for Batch : 14\n",
      "Done for Batch : 15\n",
      "Done for Batch : 16\n",
      "Done for Batch : 17\n",
      "Done for Batch : 18\n",
      "Done for Batch : 19\n",
      "Done for Batch : 20\n",
      "Done for Batch : 21\n",
      "Done for Batch : 22\n",
      "Done for Batch : 23\n",
      "Done for Batch : 24\n",
      "Done for Batch : 25\n",
      "Done for Batch : 26\n",
      "Done for Batch : 27\n",
      "Done for Batch : 28\n",
      "Done for Batch : 29\n",
      "Done for Batch : 30\n",
      "Done for Batch : 31\n",
      "Done for Batch : 32\n",
      "Done\n"
     ]
    }
   ],
   "source": [
    "### Now using bagging regressor spanish -> english\n",
    "\n",
    "\n",
    "accuracy_2v2_bg_s2e = []\n",
    "pearson_bg_s2e = []\n",
    "\n",
    "for i in range(len(data_en_b)):\n",
    "    y_en = []\n",
    "    y_sp = []\n",
    "    for j in range(len(words_en_b[i])):\n",
    "        y_en.append(model.encode(words_en_b[i][j]))\n",
    "        y_sp.append(model.encode(words_sp_b[i][j]))\n",
    "    y_en = np.array(y_en)\n",
    "    y_sp = np.array(y_sp)\n",
    "    y_pred = []\n",
    "    for j in range(y_en.shape[1]):\n",
    "        model_bg = BaggingRegressor(base_estimator=SVR(),n_estimators=100, random_state=0)\n",
    "        model_bg.fit(data_sp_b[i], y_sp[:,j])\n",
    "        y_pred.append(model_bg.predict(data_en_b[i]))\n",
    "    y_pred = np.array(y_pred, dtype=float)\n",
    "    y_pred = y_pred.T\n",
    "    \n",
    "    N = y_pred.shape[0]\n",
    "    accu_2v2 = 0\n",
    "    for it in range(N):\n",
    "        for j in range(it+1,N):\n",
    "            i1 = np.dot(y_en[it],y_pred[it]) / (norm(y_en[it])*norm(y_pred[it]))\n",
    "            i2 = np.dot(y_en[j],y_pred[j]) / (norm(y_en[j])*norm(y_pred[j]))\n",
    "            i3 = np.dot(y_en[it],y_pred[j]) / (norm(y_en[it])*norm(y_pred[j]))\n",
    "            i4 = np.dot(y_en[j],y_pred[it]) / (norm(y_en[j])*norm(y_pred[it]))\n",
    "            if i1 + i2 < i3 + i4:\n",
    "                accu_2v2 += 1\n",
    "    accu_2v2 = accu_2v2 / ((N*(N-1))/2)\n",
    "    accuracy_2v2_bg_s2e.append(accu_2v2)\n",
    "    p = 0\n",
    "    for j in range(N):\n",
    "        corr, _ = pearsonr(y_sp[j], y_pred[j])\n",
    "        p += corr\n",
    "    p = p / N\n",
    "    pearson_bg_s2e.append(p)\n",
    "    print(\"Done for Batch : \" + str(i+1))\n",
    "print(\"Done\")"
   ]
  },
  {
   "cell_type": "code",
   "execution_count": 32,
   "id": "strong-pressure",
   "metadata": {},
   "outputs": [
    {
     "data": {
      "text/plain": [
       "[0.8359813596493388,\n",
       " 0.7304583208305822,\n",
       " 0.6377147462622997,\n",
       " 0.6894003057392539,\n",
       " 0.681072321061861,\n",
       " 0.7103806293980569,\n",
       " 0.6274758274123069,\n",
       " 0.6349606068975848,\n",
       " 0.6424820576549004,\n",
       " 0.6494716372129435,\n",
       " 0.6596521752706255,\n",
       " 0.6543027862281147,\n",
       " 0.6601392700197497,\n",
       " 0.6530183154730025,\n",
       " 0.675412917331707,\n",
       " 0.615493367794784,\n",
       " 0.688564377574677,\n",
       " 0.6693546243581675,\n",
       " 0.6596867355224971,\n",
       " 0.6762074319695003,\n",
       " 0.6319388829659506,\n",
       " 0.641700121429584,\n",
       " 0.660815407464814,\n",
       " 0.6178123445218868,\n",
       " 0.6235042479286065,\n",
       " 0.6300023905859051,\n",
       " 0.6662831815179744,\n",
       " 0.6586517536940695,\n",
       " 0.6313014582353994,\n",
       " 0.6542359347679606,\n",
       " 0.6437316841076939,\n",
       " 0.7314458858554189]"
      ]
     },
     "execution_count": 32,
     "metadata": {},
     "output_type": "execute_result"
    }
   ],
   "source": [
    "pearson_bg_s2e"
   ]
  },
  {
   "cell_type": "code",
   "execution_count": 34,
   "id": "potential-vector",
   "metadata": {},
   "outputs": [
    {
     "data": {
      "text/plain": [
       "[]"
      ]
     },
     "execution_count": 34,
     "metadata": {},
     "output_type": "execute_result"
    },
    {
     "data": {
      "image/png": "[encoded data removed]",
      "text/plain": [
       "<Figure size 432x288 with 1 Axes>"
      ]
     },
     "metadata": {
      "needs_background": "light"
     },
     "output_type": "display_data"
    }
   ],
   "source": [
    "plt.plot(accuracy_2v2_bg_s2e, 'r', label=\"2v2 Accuracy\")\n",
    "plt.plot(pearson_bg_s2e , 'b' , label = \"Pearson Correlation\")\n",
    "plt.title(\"2v2 Accuracy and Pearson's Correlation Spanish to English\")\n",
    "plt.legend()\n",
    "plt.plot()"
   ]
  }
 ],
 "metadata": {
  "kernelspec": {
   "display_name": "Python 3",
   "language": "python",
   "name": "python3"
  },
  "language_info": {
   "codemirror_mode": {
    "name": "ipython",
    "version": 3
   },
   "file_extension": ".py",
   "mimetype": "text/x-python",
   "name": "python",
   "nbconvert_exporter": "python",
   "pygments_lexer": "ipython3",
   "version": "3.8.10"
  }
 },
 "nbformat": 4,
 "nbformat_minor": 5
}